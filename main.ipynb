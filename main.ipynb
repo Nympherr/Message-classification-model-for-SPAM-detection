{
 "cells": [
  {
   "cell_type": "code",
   "execution_count": null,
   "metadata": {},
   "outputs": [],
   "source": [
    "# Duomenų rinkinys"
   ]
  },
  {
   "cell_type": "code",
   "execution_count": 15,
   "metadata": {},
   "outputs": [
    {
     "name": "stdout",
     "output_type": "stream",
     "text": [
      "Bendra statistika value :\n",
      "value\n",
      "ham     4825\n",
      "spam     747\n",
      "Name: count, dtype: int64\n",
      "\n",
      "Tuščios reikšmės:\n",
      "value      0\n",
      "message    0\n",
      "dtype: int64\n"
     ]
    }
   ],
   "source": [
    "# ----- Dataset 1 (\"dataset-spam.csv\") (nemodifikuota) -----\n",
    "import pandas as pd\n",
    "\n",
    "df = pd.read_csv(\"./dataset-spam.csv\", encoding=\"latin1\")\n",
    "\n",
    "# Žiūrime bendrą duomenų rinkinio statistiką\n",
    "print(\"Bendra statistika\", 'value', \":\")\n",
    "print(df['value'].value_counts())\n",
    "\n",
    "# Tikriname tuščias reikšmes\n",
    "print(\"\\nTuščios reikšmės:\")\n",
    "print(df.isnull().sum())\n",
    "\n",
    "# Duomenys:\n",
    "# Viso: 5572\n",
    "# Ham: 4825\n",
    "# Spam: 747\n",
    "# Reikalingas modelio efektyvumas: > 86.6%\n",
    "# Komentaras: value (\"ham\" arba \"spam\")\n",
    "# (tuščių reikšmių nėra)"
   ]
  },
  {
   "cell_type": "code",
   "execution_count": null,
   "metadata": {},
   "outputs": [],
   "source": [
    "# Papildomi duomenys (\"length\" ir \"punct_count\") geresniam modeliui"
   ]
  },
  {
   "cell_type": "code",
   "execution_count": 16,
   "metadata": {},
   "outputs": [],
   "source": [
    "import re\n",
    "punctuation_pattern = r'[!\"#$%&\\'()*+,-./:;<=>?@[\\\\\\]^_`{|}~]'\n",
    "\n",
    "df['length'] = df['message'].astype(str).apply(len)\n",
    "df['punct_count'] = df['message'].apply(lambda x: len(re.findall(punctuation_pattern, x)))\n",
    "\n",
    "# atkomentuoti kai prireiks išsaugoti duomenis į failą\n",
    "# df.to_csv(\"./dataset-spam-updated.csv\", index=False, encoding=\"latin1\")"
   ]
  },
  {
   "cell_type": "code",
   "execution_count": 17,
   "metadata": {},
   "outputs": [],
   "source": [
    "# Modelio treniravimas"
   ]
  },
  {
   "cell_type": "code",
   "execution_count": 18,
   "metadata": {},
   "outputs": [],
   "source": [
    "from sklearn.model_selection import train_test_split\n",
    "\n",
    "X = df[['message','length', 'punct_count']]\n",
    "Y = df['value']\n",
    "\n",
    "X_train, X_test, Y_train, Y_test = train_test_split(X,Y)\n",
    "\n",
    "# print('Mokymo duomenys: ', X_train.shape)\n",
    "# print('Testavimo duomenys: ', X_test.shape)"
   ]
  },
  {
   "cell_type": "code",
   "execution_count": 19,
   "metadata": {},
   "outputs": [],
   "source": [
    "# \"Atraminių vektorių klasifikatorius\""
   ]
  },
  {
   "cell_type": "code",
   "execution_count": 61,
   "metadata": {},
   "outputs": [
    {
     "name": "stdout",
     "output_type": "stream",
     "text": [
      "Modelio tikslumas: 0.863%\n"
     ]
    }
   ],
   "source": [
    "import scipy.sparse as sp\n",
    "from sklearn.svm import SVC\n",
    "from sklearn.feature_extraction.text import TfidfVectorizer\n",
    "from sklearn import metrics\n",
    "\n",
    "vectorizer = TfidfVectorizer()\n",
    "X_train_message = vectorizer.fit_transform(X_train['message'])\n",
    "X_test_message = vectorizer.transform(X_test['message'])\n",
    "\n",
    "X_train_combined = sp.hstack([X_train_message, sp.csr_matrix(X_train[['length', 'punct_count']].values)])\n",
    "X_test_combined = sp.hstack([X_test_message, sp.csr_matrix(X_test[['length', 'punct_count']].values)])\n",
    "\n",
    "svc_model = SVC(gamma=\"scale\")\n",
    "svc_model.fit(X_train_combined, Y_train)\n",
    "\n",
    "predictions = svc_model.predict(X_test_combined)\n",
    "accuracy = metrics.accuracy_score(Y_test, predictions)\n",
    "\n",
    "print(f\"Modelio tikslumas: {accuracy:.3f}%\") #TODO ant tikslumo reikės padirbėti"
   ]
  },
  {
   "cell_type": "code",
   "execution_count": 62,
   "metadata": {},
   "outputs": [],
   "source": [
    "# Spam ir Ham aptikimo funkcija\n",
    "\n",
    "def find_ham_or_spam(message):\n",
    "    \n",
    "    message_vector = vectorizer.transform([message])\n",
    "    message_length = len(message)\n",
    "    message_punct_count = len(re.findall(punctuation_pattern, message))\n",
    "\n",
    "    vectorized_message_values = sp.hstack([\n",
    "        message_vector,\n",
    "        sp.csr_matrix([[message_length, message_punct_count]])\n",
    "    ])\n",
    "\n",
    "    print(svc_model.predict(vectorized_message_values))"
   ]
  },
  {
   "cell_type": "code",
   "execution_count": null,
   "metadata": {},
   "outputs": [],
   "source": [
    "# Žinučių testavimas"
   ]
  },
  {
   "cell_type": "code",
   "execution_count": 63,
   "metadata": {},
   "outputs": [
    {
     "name": "stdout",
     "output_type": "stream",
     "text": [
      "['ham']\n"
     ]
    }
   ],
   "source": [
    "text = \"Free a..      84912#!@#!@#^ @3 i3$%n 2 a wkly co..,mp to win Fasd././1#!@#A Cup final tkts 21st May 2005. Text FA to 87121 to receive entry question(std txt rate)T&C's apply 08452810075over18's!@#!@#!@#######################!!!!!!!!!!!!!!!!!!!!!!@#!@#%%%%%%%%%%%%!@#$!@#$\"\n",
    "\n",
    "find_ham_or_spam(text)"
   ]
  },
  {
   "cell_type": "code",
   "execution_count": null,
   "metadata": {},
   "outputs": [],
   "source": []
  }
 ],
 "metadata": {
  "kernelspec": {
   "display_name": "Python 3 (ipykernel)",
   "language": "python",
   "name": "python3"
  },
  "language_info": {
   "codemirror_mode": {
    "name": "ipython",
    "version": 3
   },
   "file_extension": ".py",
   "mimetype": "text/x-python",
   "name": "python",
   "nbconvert_exporter": "python",
   "pygments_lexer": "ipython3",
   "version": "3.8.19"
  }
 },
 "nbformat": 4,
 "nbformat_minor": 2
}
