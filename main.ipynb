{
 "cells": [
  {
   "cell_type": "code",
   "execution_count": null,
   "metadata": {},
   "outputs": [],
   "source": [
    "# Užduotys"
   ]
  },
  {
   "cell_type": "code",
   "execution_count": null,
   "metadata": {},
   "outputs": [],
   "source": [
    "'''\n",
    "1) Duomenų surinkimas (nepadaryta)\n",
    "2) Duomenų paruošimas (nepadaryta)\n",
    "3) Požymių išskyrimas (nepadaryta)\n",
    "4) Modelio apmokymas (nepadaryta)\n",
    "5) Modelio testavimas (nepadaryta)\n",
    "'''"
   ]
  },
  {
   "cell_type": "code",
   "execution_count": null,
   "metadata": {},
   "outputs": [],
   "source": [
    "# Žingsniai"
   ]
  },
  {
   "cell_type": "code",
   "execution_count": null,
   "metadata": {},
   "outputs": [],
   "source": [
    "'''\n",
    "1) įkelti duomenų rinkinį ir patikrinti ar nėra tuščių reikšmių (įkeltas 1-as rinkinys)\n",
    "2) padalyti duomenų rinkinį į mokymo ir testavimo rinkinius (nepadaryta)\n",
    "3) išskirti skaitinius požymius (nepadaryta)\n",
    "4) sukurti modelį (nepadaryta)\n",
    "5) įvertinti modelio tikslumą (nepadaryta)\n",
    "'''"
   ]
  },
  {
   "cell_type": "code",
   "execution_count": null,
   "metadata": {},
   "outputs": [],
   "source": [
    "# Duomenų rinkiniai"
   ]
  },
  {
   "cell_type": "code",
   "execution_count": null,
   "metadata": {},
   "outputs": [],
   "source": [
    "# ----- Dataset 1 (\"dataset-spam.csv\") -----\n",
    "dataset_1 = \"./dataset-spam.csv\"\n",
    "dataset_1_header = 'v1'\n",
    "\n",
    "# Duomenys:\n",
    "# Viso: 5572\n",
    "# Ham: 4825\n",
    "# Spam: 747\n",
    "# Reikalingas modelio efektyvumas: > 86.6%\n",
    "# Komentaras: žiūrime į \"v1\" ir \"v2\" header'ius. Kitus ignoruojame.\n",
    "\n",
    "# ----- Dataset 2 (gal bus?) -----"
   ]
  },
  {
   "cell_type": "code",
   "execution_count": null,
   "metadata": {},
   "outputs": [],
   "source": [
    "# Duomenų rinkinio įkėlimas"
   ]
  },
  {
   "cell_type": "code",
   "execution_count": 22,
   "metadata": {},
   "outputs": [
    {
     "name": "stdout",
     "output_type": "stream",
     "text": [
      "Bendra statistika v1 :\n",
      "v1\n",
      "ham     4825\n",
      "spam     747\n",
      "Name: count, dtype: int64\n",
      "\n",
      "Tuščios reikšmės:\n",
      "v1               0\n",
      "v2               0\n",
      "Unnamed: 2    5522\n",
      "Unnamed: 3    5560\n",
      "Unnamed: 4    5566\n",
      "dtype: int64\n"
     ]
    }
   ],
   "source": [
    "import pandas as pd\n",
    "\n",
    "current_dataset = dataset_1\n",
    "current_header = dataset_1_header\n",
    "\n",
    "df = pd.read_csv(current_dataset, encoding=\"latin1\")\n",
    "\n",
    "# Žiūrime bendrą duomenų rinkinio statistiką\n",
    "print(\"Bendra statistika\", current_header, \":\")\n",
    "print(df[current_header].value_counts())\n",
    "\n",
    "# Tikriname tuščias reikšmes (kad vėliau apdorotume rinkinį jeigu prireiks)\n",
    "print(\"\\nTuščios reikšmės:\")\n",
    "print(df.isnull().sum())"
   ]
  },
  {
   "cell_type": "code",
   "execution_count": null,
   "metadata": {},
   "outputs": [],
   "source": [
    "# Tuščių reikšmių pašalinimas (atkomentuoti kai prireiks)\n",
    "# df.dropna(inplace=True)"
   ]
  },
  {
   "cell_type": "code",
   "execution_count": null,
   "metadata": {},
   "outputs": [],
   "source": [
    "# Statistinė duomenų analizė"
   ]
  },
  {
   "cell_type": "code",
   "execution_count": 26,
   "metadata": {},
   "outputs": [
    {
     "name": "stdout",
     "output_type": "stream",
     "text": [
      "count    5572.000000\n",
      "mean       80.118808\n",
      "std        59.690841\n",
      "min         2.000000\n",
      "25%        36.000000\n",
      "50%        61.000000\n",
      "75%       121.000000\n",
      "max       910.000000\n",
      "Name: length, dtype: float64\n"
     ]
    }
   ],
   "source": [
    "# 1-am duomenų rinkiniui\n",
    "df['length'] = df['v2'].astype(str).apply(len)\n",
    "print(df['length'].describe())"
   ]
  },
  {
   "cell_type": "code",
   "execution_count": null,
   "metadata": {},
   "outputs": [],
   "source": [
    "# Duomenų vizualizavimas"
   ]
  },
  {
   "cell_type": "code",
   "execution_count": 27,
   "metadata": {},
   "outputs": [
    {
     "data": {
      "text/plain": [
       "<Axes: ylabel='Frequency'>"
      ]
     },
     "execution_count": 27,
     "metadata": {},
     "output_type": "execute_result"
    },
    {
     "data": {
      "image/png": "[encoded data removed]",
      "text/plain": [
       "<Figure size 640x480 with 1 Axes>"
      ]
     },
     "metadata": {},
     "output_type": "display_data"
    }
   ],
   "source": [
    "# 1-am duomenų rinkiniui (x-simbolių skaičius ; y-dažnumas)\n",
    "import matplotlib.pyplot as plt\n",
    "df['length'].plot(bins=50, kind=\"hist\")"
   ]
  },
  {
   "cell_type": "code",
   "execution_count": null,
   "metadata": {},
   "outputs": [],
   "source": []
  }
 ],
 "metadata": {
  "kernelspec": {
   "display_name": "Python 3 (ipykernel)",
   "language": "python",
   "name": "python3"
  },
  "language_info": {
   "codemirror_mode": {
    "name": "ipython",
    "version": 3
   },
   "file_extension": ".py",
   "mimetype": "text/x-python",
   "name": "python",
   "nbconvert_exporter": "python",
   "pygments_lexer": "ipython3",
   "version": "3.8.19"
  }
 },
 "nbformat": 4,
 "nbformat_minor": 2
}
